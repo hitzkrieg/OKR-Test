{
 "cells": [
  {
   "cell_type": "markdown",
   "metadata": {},
   "source": [
    "<h2> Visualisation of Gold annotations of OKR dataset</h2>\n",
    "**_ A Consolidated Open Knowledge Representation for Multiple Texts_ **\n",
    "\n",
    "Paper: https://gabrielstanovsky.github.io/assets/papers/lsdsem17/paper.pdf <br>\n",
    "Github: https://github.com/vered1986/OKR\n",
    "\n",
    "This Notebook is a walthrough of the gold annotations for the paper. <br>"
   ]
  },
  {
   "cell_type": "markdown",
   "metadata": {},
   "source": [
    "We load the annotations from the file **car_bomb.xml** from the test folder into an OKR object. And we visualize the classes structures, heirarchy from this instance of the OKR class."
   ]
  },
  {
   "cell_type": "code",
   "execution_count": 11,
   "metadata": {
    "collapsed": false
   },
   "outputs": [],
   "source": []
  },
  {
   "cell_type": "markdown",
   "metadata": {
    "collapsed": true
   },
   "source": [
    "    \n",
    "    "
   ]
  },
  {
   "cell_type": "code",
   "execution_count": null,
   "metadata": {
    "collapsed": true
   },
   "outputs": [],
   "source": []
  }
 ],
 "metadata": {
  "kernelspec": {
   "display_name": "Python [py27]",
   "language": "python",
   "name": "Python [py27]"
  },
  "language_info": {
   "codemirror_mode": {
    "name": "ipython",
    "version": 2
   },
   "file_extension": ".py",
   "mimetype": "text/x-python",
   "name": "python",
   "nbconvert_exporter": "python",
   "pygments_lexer": "ipython2",
   "version": "2.7.11"
  }
 },
 "nbformat": 4,
 "nbformat_minor": 0
}
