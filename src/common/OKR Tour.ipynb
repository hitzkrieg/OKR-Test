{
 "cells": [
  {
   "cell_type": "markdown",
   "metadata": {},
   "source": [
    "## Open Knowledge Representation\n",
    "\n",
    "This notebook is a Whirlwhind tour of the OKR object. \n",
    "![Image of Tour](http://www.winterlightshow.com/wp-content/uploads/2014/12/tour.jpg)\n",
    "\n"
   ]
  },
  {
   "cell_type": "code",
   "execution_count": 6,
   "metadata": {
    "collapsed": false
   },
   "outputs": [
    {
     "name": "stdout",
     "output_type": "stream",
     "text": [
      "The object 'okr_graph' is an object of OKR class.\n"
     ]
    }
   ],
   "source": [
    "# Loading the classes from okr.py\n",
    "from okr import *\n",
    "\n",
    "# Gold file which we will load into an OKR object\n",
    "test_file = '../../data/baseline/test/car_bomb.xml'\n",
    "\n",
    "# Voila! our OKR object\n",
    "okr_graph = load_graph_from_file(test_file)\n",
    "if(isinstance(okr_graph, OKR)):\n",
    "    print(\"The object 'okr_graph' is an object of OKR class.\")\n",
    "\n"
   ]
  },
  {
   "cell_type": "markdown",
   "metadata": {},
   "source": [
    "### Sentences\n",
    "\n",
    "This graph contains information consolidated from a cluster of tweets identifying the same event. Okay, let us see. What things our graph consist of?\n",
    "Let us start with sentences of the Tweets.\n"
   ]
  },
  {
   "cell_type": "code",
   "execution_count": 15,
   "metadata": {
    "collapsed": false
   },
   "outputs": [
    {
     "name": "stdout",
     "output_type": "stream",
     "text": [
      "('The number of tweets: ', 37)\n",
      "A sample sentence: \n",
      "('sentID: 1, Sentence: ', 'Car bomb kills 8 in Beirut Lebanon')\n"
     ]
    }
   ],
   "source": [
    "# Dictionary of sentences of the form Sentence id(starting from 0): list of tokens\n",
    "print('The number of tweets: ', len(okr_graph.sentences.values()))\n",
    "\n",
    "print('A sample sentence: ')\n",
    "print('sentID: 1, Sentence: ', ' '.join(okr_graph.sentences[1]))\n",
    "\n"
   ]
  },
  {
   "cell_type": "markdown",
   "metadata": {},
   "source": [
    "### Entities\n",
    "The entities dictionary maps an entity id to an entity (entity_id: entity). An entity is nothing but a cluster of mentions of some real world entity extracted from the tweets."
   ]
  },
  {
   "cell_type": "code",
   "execution_count": 18,
   "metadata": {
    "collapsed": false
   },
   "outputs": [
    {
     "name": "stdout",
     "output_type": "stream",
     "text": [
      "('No. of entities: ', 37)\n"
     ]
    }
   ],
   "source": [
    "print('No. of entities: ', len(okr_graph.entities.keys()))\n",
    "print('Analysing the first entity:')\n",
    "prin"
   ]
  },
  {
   "cell_type": "code",
   "execution_count": null,
   "metadata": {
    "collapsed": true
   },
   "outputs": [],
   "source": []
  }
 ],
 "metadata": {
  "kernelspec": {
   "display_name": "Python [py27]",
   "language": "python",
   "name": "Python [py27]"
  },
  "language_info": {
   "codemirror_mode": {
    "name": "ipython",
    "version": 2
   },
   "file_extension": ".py",
   "mimetype": "text/x-python",
   "name": "python",
   "nbconvert_exporter": "python",
   "pygments_lexer": "ipython2",
   "version": "2.7.11"
  }
 },
 "nbformat": 4,
 "nbformat_minor": 0
}
